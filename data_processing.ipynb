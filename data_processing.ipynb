{
 "cells": [
  {
   "metadata": {},
   "cell_type": "markdown",
   "source": [
    "\n",
    "# Data Processing\n",
    "In this notebook we load and process the raw data to develop the final dataset for the IBM-Z Datathon. We make use of three main datasets for a list of all observed geo-effective CMEs from the post-SOHO era between 1996-2024, and two data sets for features and targets:\n",
    "\n",
    "#### Geo-effective CMEs:\n",
    "- The [Richardson and Cane list](https://izw1.caltech.edu/ACE/ASC/DATA/level3/icmetable2.htm); a list of near-Earth CMEs from 1996-2010.\n",
    "- The [George Mason University CME/ICME list](http://solar.gmu.edu/heliophysics/index.php/GMU_CME/ICME_List); a list of geo-effective CMEs from 2007-2017.\n",
    "- The [NASA CME Scoreboard](https://kauai.ccmc.gsfc.nasa.gov/CMEscoreboard/); a list of geo-effective CMEs from 2013-2024.\n",
    "\n",
    "#### Features and Targets:\n",
    "- The [SOHO-LASCO CME Catalogue](https://cdaw.gsfc.nasa.gov/CME_list/); a list of all CMEs observed from 1996-2024 containing information on physical quantities.\n",
    "- [OMNIWeb Plus data](https://omniweb.gsfc.nasa.gov/); a list of features associated with the solar wind and sunspot numbers.\n"
   ],
   "id": "fd6991932ae8fbf"
  },
  {
   "metadata": {},
   "cell_type": "markdown",
   "source": "## Cleaning the data:",
   "id": "17d11c32eddecbc3"
  },
  {
   "metadata": {
    "ExecuteTime": {
     "end_time": "2024-10-19T05:10:32.114572Z",
     "start_time": "2024-10-19T05:10:32.112029Z"
    }
   },
   "cell_type": "code",
   "source": [
    "# Importing libraries:\n",
    "# For data manipulation\n",
    "import pandas as pd\n",
    "\n",
    "#For data visualisation:\n",
    "import matplotlib.pyplot as plt"
   ],
   "id": "3968ef87027f7def",
   "outputs": [],
   "execution_count": 91
  },
  {
   "metadata": {},
   "cell_type": "markdown",
   "source": [
    "\n",
    "#### SOHO-LASCO & OMNOWeb Plus\n",
    "We begin by loading in the SOHO-LASCO Catalogue to obtain the physical quantities for all CMEs. The original dataset had 11 total features. Most of the data was missing for the mass and kinetic energy hence these have been excluded. We have also excluded the second-order speeds as these are correlated with the linear speed. As a result this dataset contains the dates and times for each CME, together with five features:\n",
    "- Central Position Angle in degrees.\n",
    "- Angular Width in degrees.\n",
    "- Linear Speed in km/s.\n",
    "- Acceleration in km/s$^2$.\n",
    "- Measurement Position Angle in degrees.\n"
   ],
   "id": "e65996ed00717b16"
  },
  {
   "metadata": {
    "ExecuteTime": {
     "end_time": "2024-10-19T05:13:18.177311Z",
     "start_time": "2024-10-19T05:13:18.174123Z"
    }
   },
   "cell_type": "code",
   "source": [
    "# Adding filepaths as variables\n",
    "cane_file_path = r\"C:\\Users\\Yusuf\\PycharmProjects\\IBM-Z_Datathon_2024\\data\\RichardsonCane.csv\"\n",
    "gmu_file_path = r\"C:\\Users\\Yusuf\\PycharmProjects\\IBM-Z_Datathon_2024\\data\\GMU.csv\"\n",
    "nasa_file_path = r\"C:\\Users\\Yusuf\\PycharmProjects\\IBM-Z_Datathon_2024\\data\\NASA_Scoreboard.csv\"\n",
    "soho_file_path = r\"C:\\Users\\Yusuf\\PycharmProjects\\IBM-Z_Datathon_2024\\data\\SOHO_LASCO.csv\"\n",
    "omniweb_file_path = r\"C:\\Users\\Yusuf\\PycharmProjects\\IBM-Z_Datathon_2024\\data\\OMNIWeb.txt\""
   ],
   "id": "170b229372a4cde0",
   "outputs": [],
   "execution_count": 95
  },
  {
   "metadata": {
    "ExecuteTime": {
     "end_time": "2024-10-19T05:13:58.415424Z",
     "start_time": "2024-10-19T05:13:58.381449Z"
    }
   },
   "cell_type": "code",
   "source": [
    "# Reading SOHO-LASCO dataset\n",
    "soho_df = pd.read_csv(soho_file_path)\n",
    "soho_df.info()"
   ],
   "id": "b2ea70b742fffa3",
   "outputs": [
    {
     "name": "stdout",
     "output_type": "stream",
     "text": [
      "<class 'pandas.core.frame.DataFrame'>\n",
      "RangeIndex: 39285 entries, 0 to 39284\n",
      "Data columns (total 7 columns):\n",
      " #   Column        Non-Null Count  Dtype  \n",
      "---  ------        --------------  -----  \n",
      " 0   Date          39285 non-null  object \n",
      " 1   Time          39285 non-null  object \n",
      " 2   CentralPA     39285 non-null  object \n",
      " 3   AngularWidth  39285 non-null  int64  \n",
      " 4   LinearSpeed   39166 non-null  float64\n",
      " 5   Accel         39285 non-null  object \n",
      " 6   MPA           39285 non-null  int64  \n",
      "dtypes: float64(1), int64(2), object(4)\n",
      "memory usage: 2.1+ MB\n"
     ]
    }
   ],
   "execution_count": 99
  },
  {
   "metadata": {
    "ExecuteTime": {
     "end_time": "2024-10-19T05:16:57.129090Z",
     "start_time": "2024-10-19T05:16:57.119762Z"
    }
   },
   "cell_type": "code",
   "source": "soho_df.head(100)",
   "id": "433b69f54212b747",
   "outputs": [
    {
     "data": {
      "text/plain": [
       "          Date      Time CentralPA  AngularWidth  LinearSpeed    Accel  MPA\n",
       "0   11/01/1996  00:14:36       267            18        499.0   -64.3*  272\n",
       "1   13/01/1996  22:08:30       265            16        290.0     2.8*  266\n",
       "2   15/01/1996  07:01:10       262            43        525.0    -31.1  272\n",
       "3   22/01/1996  03:11:01       105            37        267.0  -126.3*  103\n",
       "4   26/01/1996  09:16:19        90            27        262.0     1.9*   90\n",
       "..         ...       ...       ...           ...          ...      ...  ...\n",
       "95  07/05/1996  02:24:06       263            22         62.0     6.2*  265\n",
       "96  07/05/1996  05:24:58        95            40        154.0    -6.3*   93\n",
       "97  07/05/1996  21:34:54        80            26        127.0     8.1*   81\n",
       "98  09/05/1996  12:29:36        81            16         95.0     1.1*   82\n",
       "99  09/05/1996  13:49:01       265            41         21.0    -0.8*  267\n",
       "\n",
       "[100 rows x 7 columns]"
      ],
      "text/html": [
       "<div>\n",
       "<style scoped>\n",
       "    .dataframe tbody tr th:only-of-type {\n",
       "        vertical-align: middle;\n",
       "    }\n",
       "\n",
       "    .dataframe tbody tr th {\n",
       "        vertical-align: top;\n",
       "    }\n",
       "\n",
       "    .dataframe thead th {\n",
       "        text-align: right;\n",
       "    }\n",
       "</style>\n",
       "<table border=\"1\" class=\"dataframe\">\n",
       "  <thead>\n",
       "    <tr style=\"text-align: right;\">\n",
       "      <th></th>\n",
       "      <th>Date</th>\n",
       "      <th>Time</th>\n",
       "      <th>CentralPA</th>\n",
       "      <th>AngularWidth</th>\n",
       "      <th>LinearSpeed</th>\n",
       "      <th>Accel</th>\n",
       "      <th>MPA</th>\n",
       "    </tr>\n",
       "  </thead>\n",
       "  <tbody>\n",
       "    <tr>\n",
       "      <th>0</th>\n",
       "      <td>11/01/1996</td>\n",
       "      <td>00:14:36</td>\n",
       "      <td>267</td>\n",
       "      <td>18</td>\n",
       "      <td>499.0</td>\n",
       "      <td>-64.3*</td>\n",
       "      <td>272</td>\n",
       "    </tr>\n",
       "    <tr>\n",
       "      <th>1</th>\n",
       "      <td>13/01/1996</td>\n",
       "      <td>22:08:30</td>\n",
       "      <td>265</td>\n",
       "      <td>16</td>\n",
       "      <td>290.0</td>\n",
       "      <td>2.8*</td>\n",
       "      <td>266</td>\n",
       "    </tr>\n",
       "    <tr>\n",
       "      <th>2</th>\n",
       "      <td>15/01/1996</td>\n",
       "      <td>07:01:10</td>\n",
       "      <td>262</td>\n",
       "      <td>43</td>\n",
       "      <td>525.0</td>\n",
       "      <td>-31.1</td>\n",
       "      <td>272</td>\n",
       "    </tr>\n",
       "    <tr>\n",
       "      <th>3</th>\n",
       "      <td>22/01/1996</td>\n",
       "      <td>03:11:01</td>\n",
       "      <td>105</td>\n",
       "      <td>37</td>\n",
       "      <td>267.0</td>\n",
       "      <td>-126.3*</td>\n",
       "      <td>103</td>\n",
       "    </tr>\n",
       "    <tr>\n",
       "      <th>4</th>\n",
       "      <td>26/01/1996</td>\n",
       "      <td>09:16:19</td>\n",
       "      <td>90</td>\n",
       "      <td>27</td>\n",
       "      <td>262.0</td>\n",
       "      <td>1.9*</td>\n",
       "      <td>90</td>\n",
       "    </tr>\n",
       "    <tr>\n",
       "      <th>...</th>\n",
       "      <td>...</td>\n",
       "      <td>...</td>\n",
       "      <td>...</td>\n",
       "      <td>...</td>\n",
       "      <td>...</td>\n",
       "      <td>...</td>\n",
       "      <td>...</td>\n",
       "    </tr>\n",
       "    <tr>\n",
       "      <th>95</th>\n",
       "      <td>07/05/1996</td>\n",
       "      <td>02:24:06</td>\n",
       "      <td>263</td>\n",
       "      <td>22</td>\n",
       "      <td>62.0</td>\n",
       "      <td>6.2*</td>\n",
       "      <td>265</td>\n",
       "    </tr>\n",
       "    <tr>\n",
       "      <th>96</th>\n",
       "      <td>07/05/1996</td>\n",
       "      <td>05:24:58</td>\n",
       "      <td>95</td>\n",
       "      <td>40</td>\n",
       "      <td>154.0</td>\n",
       "      <td>-6.3*</td>\n",
       "      <td>93</td>\n",
       "    </tr>\n",
       "    <tr>\n",
       "      <th>97</th>\n",
       "      <td>07/05/1996</td>\n",
       "      <td>21:34:54</td>\n",
       "      <td>80</td>\n",
       "      <td>26</td>\n",
       "      <td>127.0</td>\n",
       "      <td>8.1*</td>\n",
       "      <td>81</td>\n",
       "    </tr>\n",
       "    <tr>\n",
       "      <th>98</th>\n",
       "      <td>09/05/1996</td>\n",
       "      <td>12:29:36</td>\n",
       "      <td>81</td>\n",
       "      <td>16</td>\n",
       "      <td>95.0</td>\n",
       "      <td>1.1*</td>\n",
       "      <td>82</td>\n",
       "    </tr>\n",
       "    <tr>\n",
       "      <th>99</th>\n",
       "      <td>09/05/1996</td>\n",
       "      <td>13:49:01</td>\n",
       "      <td>265</td>\n",
       "      <td>41</td>\n",
       "      <td>21.0</td>\n",
       "      <td>-0.8*</td>\n",
       "      <td>267</td>\n",
       "    </tr>\n",
       "  </tbody>\n",
       "</table>\n",
       "<p>100 rows × 7 columns</p>\n",
       "</div>"
      ]
     },
     "execution_count": 103,
     "metadata": {},
     "output_type": "execute_result"
    }
   ],
   "execution_count": 103
  },
  {
   "metadata": {},
   "cell_type": "markdown",
   "source": [
    "After inspecting the dataset, we will do the following:\n",
    "- Convert all missing values labelled as \"------\" and convert them to \"NaN\".\n",
    "- Reformat the Acceleration column by removing asterisks and convert values to numeric.\n",
    "- We will also remove CME data corresponding to an angular width below 90 degrees as it is known that these are not likely to be geoeffective."
   ],
   "id": "911e643aabc4dec2"
  },
  {
   "metadata": {},
   "cell_type": "code",
   "outputs": [],
   "execution_count": null,
   "source": "",
   "id": "dead2e87baeca761"
  }
 ],
 "metadata": {
  "kernelspec": {
   "display_name": "Python 3",
   "language": "python",
   "name": "python3"
  },
  "language_info": {
   "codemirror_mode": {
    "name": "ipython",
    "version": 2
   },
   "file_extension": ".py",
   "mimetype": "text/x-python",
   "name": "python",
   "nbconvert_exporter": "python",
   "pygments_lexer": "ipython2",
   "version": "2.7.6"
  }
 },
 "nbformat": 4,
 "nbformat_minor": 5
}
