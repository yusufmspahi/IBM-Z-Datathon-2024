{
 "cells": [
  {
   "metadata": {},
   "cell_type": "markdown",
   "source": [
    "\n",
    "# Data Processing\n",
    "In this notebook we load and process the raw data to develop the final dataset for the IBM-Z Datathon. We make use of three main datasets for a list of all observed geo-effective CMEs from the post-SOHO era between 1996-2024, and three data sets for features and targets:\n",
    "\n",
    "#### Geo-effective CMEs:\n",
    "- The [Richardson and Cane list](https://izw1.caltech.edu/ACE/ASC/DATA/level3/icmetable2.htm); a list of near-Earth CMEs from 1996-2010.\n",
    "- The [George Mason University CME/ICME list](http://solar.gmu.edu/heliophysics/index.php/GMU_CME/ICME_List); a list of geo-effective CMEs from 2007-2017.\n",
    "- The [NASA CME Scoreboard](https://kauai.ccmc.gsfc.nasa.gov/CMEscoreboard/); a list of geo-effective CMEs from 2013-2024.\n",
    "\n",
    "#### Features and Targets:\n",
    "- The [SOHO-LASCO CME Catalogue](https://cdaw.gsfc.nasa.gov/CME_list/); a list of all CMEs observed from 1996-2024 containing information on physical quantities.\n",
    "- [OMNIWeb Plus data](https://omniweb.gsfc.nasa.gov/); a list of solar wind features associated with CMEs.\n",
    "- The [SIDC sunspot data](https://www.sidc.be/SILSO/datafiles); daily total sunspot number encoding information about the solar cycle from 1818-2024.\n"
   ],
   "id": "fd6991932ae8fbf"
  },
  {
   "metadata": {},
   "cell_type": "markdown",
   "source": "#### Importing libraries:",
   "id": "7b6c369deea7c67d"
  },
  {
   "metadata": {
    "ExecuteTime": {
     "end_time": "2024-10-18T20:28:39.033527Z",
     "start_time": "2024-10-18T20:28:39.030234Z"
    }
   },
   "cell_type": "code",
   "source": [
    "# For data manipulation\n",
    "import pandas as pd\n",
    "\n",
    "#For data visualisation:\n",
    "import matplotlib.pyplot as plt"
   ],
   "id": "3968ef87027f7def",
   "outputs": [],
   "execution_count": 23
  },
  {
   "metadata": {},
   "cell_type": "markdown",
   "source": "#### Reading files into notebook:",
   "id": "e65996ed00717b16"
  },
  {
   "metadata": {
    "ExecuteTime": {
     "end_time": "2024-10-18T22:16:03.709784Z",
     "start_time": "2024-10-18T22:16:03.659576Z"
    }
   },
   "cell_type": "code",
   "source": [
    "# Read the HTML file into a list of DataFrames\n",
    "# The header is repeated multiple times in the body of the table\n",
    "# Force the correct header by setting header=0\n",
    "list_of_df = pd.read_html(\"RicharsonCane.html\", header=0)\n",
    "\n",
    "# Concatenate the list of DataFrames into a single DataFrame\n",
    "df = pd.concat(list_of_df)\n",
    "\n",
    "# Display the first 5 rows of the dataframe\n",
    "print(df.head().to_markdown(index=False, numalign=\"left\", stralign=\"left\"))\n",
    "\n",
    "# Print the column names and their data types\n",
    "print(df.info())"
   ],
   "id": "170b229372a4cde0",
   "outputs": [
    {
     "ename": "ValueError",
     "evalue": "No tables found",
     "output_type": "error",
     "traceback": [
      "\u001B[1;31m---------------------------------------------------------------------------\u001B[0m",
      "\u001B[1;31mValueError\u001B[0m                                Traceback (most recent call last)",
      "Cell \u001B[1;32mIn[26], line 4\u001B[0m\n\u001B[0;32m      1\u001B[0m \u001B[38;5;66;03m# Read the HTML file into a list of DataFrames\u001B[39;00m\n\u001B[0;32m      2\u001B[0m \u001B[38;5;66;03m# The header is repeated multiple times in the body of the table\u001B[39;00m\n\u001B[0;32m      3\u001B[0m \u001B[38;5;66;03m# Force the correct header by setting header=0\u001B[39;00m\n\u001B[1;32m----> 4\u001B[0m list_of_df \u001B[38;5;241m=\u001B[39m pd\u001B[38;5;241m.\u001B[39mread_html(\u001B[38;5;124m\"\u001B[39m\u001B[38;5;124mRicharsonCane.html\u001B[39m\u001B[38;5;124m\"\u001B[39m, header\u001B[38;5;241m=\u001B[39m\u001B[38;5;241m0\u001B[39m)\n\u001B[0;32m      6\u001B[0m \u001B[38;5;66;03m# Concatenate the list of DataFrames into a single DataFrame\u001B[39;00m\n\u001B[0;32m      7\u001B[0m df \u001B[38;5;241m=\u001B[39m pd\u001B[38;5;241m.\u001B[39mconcat(list_of_df)\n",
      "File \u001B[1;32m~\\anaconda3\\Lib\\site-packages\\pandas\\io\\html.py:1212\u001B[0m, in \u001B[0;36mread_html\u001B[1;34m(io, match, flavor, header, index_col, skiprows, attrs, parse_dates, thousands, encoding, decimal, converters, na_values, keep_default_na, displayed_only, extract_links, dtype_backend)\u001B[0m\n\u001B[0;32m   1208\u001B[0m check_dtype_backend(dtype_backend)\n\u001B[0;32m   1210\u001B[0m io \u001B[38;5;241m=\u001B[39m stringify_path(io)\n\u001B[1;32m-> 1212\u001B[0m \u001B[38;5;28;01mreturn\u001B[39;00m _parse(\n\u001B[0;32m   1213\u001B[0m     flavor\u001B[38;5;241m=\u001B[39mflavor,\n\u001B[0;32m   1214\u001B[0m     io\u001B[38;5;241m=\u001B[39mio,\n\u001B[0;32m   1215\u001B[0m     match\u001B[38;5;241m=\u001B[39mmatch,\n\u001B[0;32m   1216\u001B[0m     header\u001B[38;5;241m=\u001B[39mheader,\n\u001B[0;32m   1217\u001B[0m     index_col\u001B[38;5;241m=\u001B[39mindex_col,\n\u001B[0;32m   1218\u001B[0m     skiprows\u001B[38;5;241m=\u001B[39mskiprows,\n\u001B[0;32m   1219\u001B[0m     parse_dates\u001B[38;5;241m=\u001B[39mparse_dates,\n\u001B[0;32m   1220\u001B[0m     thousands\u001B[38;5;241m=\u001B[39mthousands,\n\u001B[0;32m   1221\u001B[0m     attrs\u001B[38;5;241m=\u001B[39mattrs,\n\u001B[0;32m   1222\u001B[0m     encoding\u001B[38;5;241m=\u001B[39mencoding,\n\u001B[0;32m   1223\u001B[0m     decimal\u001B[38;5;241m=\u001B[39mdecimal,\n\u001B[0;32m   1224\u001B[0m     converters\u001B[38;5;241m=\u001B[39mconverters,\n\u001B[0;32m   1225\u001B[0m     na_values\u001B[38;5;241m=\u001B[39mna_values,\n\u001B[0;32m   1226\u001B[0m     keep_default_na\u001B[38;5;241m=\u001B[39mkeep_default_na,\n\u001B[0;32m   1227\u001B[0m     displayed_only\u001B[38;5;241m=\u001B[39mdisplayed_only,\n\u001B[0;32m   1228\u001B[0m     extract_links\u001B[38;5;241m=\u001B[39mextract_links,\n\u001B[0;32m   1229\u001B[0m     dtype_backend\u001B[38;5;241m=\u001B[39mdtype_backend,\n\u001B[0;32m   1230\u001B[0m )\n",
      "File \u001B[1;32m~\\anaconda3\\Lib\\site-packages\\pandas\\io\\html.py:1001\u001B[0m, in \u001B[0;36m_parse\u001B[1;34m(flavor, io, match, attrs, encoding, displayed_only, extract_links, **kwargs)\u001B[0m\n\u001B[0;32m    999\u001B[0m \u001B[38;5;28;01melse\u001B[39;00m:\n\u001B[0;32m   1000\u001B[0m     \u001B[38;5;28;01massert\u001B[39;00m retained \u001B[38;5;129;01mis\u001B[39;00m \u001B[38;5;129;01mnot\u001B[39;00m \u001B[38;5;28;01mNone\u001B[39;00m  \u001B[38;5;66;03m# for mypy\u001B[39;00m\n\u001B[1;32m-> 1001\u001B[0m     \u001B[38;5;28;01mraise\u001B[39;00m retained\n\u001B[0;32m   1003\u001B[0m ret \u001B[38;5;241m=\u001B[39m []\n\u001B[0;32m   1004\u001B[0m \u001B[38;5;28;01mfor\u001B[39;00m table \u001B[38;5;129;01min\u001B[39;00m tables:\n",
      "File \u001B[1;32m~\\anaconda3\\Lib\\site-packages\\pandas\\io\\html.py:981\u001B[0m, in \u001B[0;36m_parse\u001B[1;34m(flavor, io, match, attrs, encoding, displayed_only, extract_links, **kwargs)\u001B[0m\n\u001B[0;32m    978\u001B[0m p \u001B[38;5;241m=\u001B[39m parser(io, compiled_match, attrs, encoding, displayed_only, extract_links)\n\u001B[0;32m    980\u001B[0m \u001B[38;5;28;01mtry\u001B[39;00m:\n\u001B[1;32m--> 981\u001B[0m     tables \u001B[38;5;241m=\u001B[39m p\u001B[38;5;241m.\u001B[39mparse_tables()\n\u001B[0;32m    982\u001B[0m \u001B[38;5;28;01mexcept\u001B[39;00m \u001B[38;5;167;01mValueError\u001B[39;00m \u001B[38;5;28;01mas\u001B[39;00m caught:\n\u001B[0;32m    983\u001B[0m     \u001B[38;5;66;03m# if `io` is an io-like object, check if it's seekable\u001B[39;00m\n\u001B[0;32m    984\u001B[0m     \u001B[38;5;66;03m# and try to rewind it before trying the next parser\u001B[39;00m\n\u001B[0;32m    985\u001B[0m     \u001B[38;5;28;01mif\u001B[39;00m \u001B[38;5;28mhasattr\u001B[39m(io, \u001B[38;5;124m\"\u001B[39m\u001B[38;5;124mseekable\u001B[39m\u001B[38;5;124m\"\u001B[39m) \u001B[38;5;129;01mand\u001B[39;00m io\u001B[38;5;241m.\u001B[39mseekable():\n",
      "File \u001B[1;32m~\\anaconda3\\Lib\\site-packages\\pandas\\io\\html.py:257\u001B[0m, in \u001B[0;36m_HtmlFrameParser.parse_tables\u001B[1;34m(self)\u001B[0m\n\u001B[0;32m    249\u001B[0m \u001B[38;5;28;01mdef\u001B[39;00m \u001B[38;5;21mparse_tables\u001B[39m(\u001B[38;5;28mself\u001B[39m):\n\u001B[0;32m    250\u001B[0m \u001B[38;5;250m    \u001B[39m\u001B[38;5;124;03m\"\"\"\u001B[39;00m\n\u001B[0;32m    251\u001B[0m \u001B[38;5;124;03m    Parse and return all tables from the DOM.\u001B[39;00m\n\u001B[0;32m    252\u001B[0m \n\u001B[1;32m   (...)\u001B[0m\n\u001B[0;32m    255\u001B[0m \u001B[38;5;124;03m    list of parsed (header, body, footer) tuples from tables.\u001B[39;00m\n\u001B[0;32m    256\u001B[0m \u001B[38;5;124;03m    \"\"\"\u001B[39;00m\n\u001B[1;32m--> 257\u001B[0m     tables \u001B[38;5;241m=\u001B[39m \u001B[38;5;28mself\u001B[39m\u001B[38;5;241m.\u001B[39m_parse_tables(\u001B[38;5;28mself\u001B[39m\u001B[38;5;241m.\u001B[39m_build_doc(), \u001B[38;5;28mself\u001B[39m\u001B[38;5;241m.\u001B[39mmatch, \u001B[38;5;28mself\u001B[39m\u001B[38;5;241m.\u001B[39mattrs)\n\u001B[0;32m    258\u001B[0m     \u001B[38;5;28;01mreturn\u001B[39;00m (\u001B[38;5;28mself\u001B[39m\u001B[38;5;241m.\u001B[39m_parse_thead_tbody_tfoot(table) \u001B[38;5;28;01mfor\u001B[39;00m table \u001B[38;5;129;01min\u001B[39;00m tables)\n",
      "File \u001B[1;32m~\\anaconda3\\Lib\\site-packages\\pandas\\io\\html.py:613\u001B[0m, in \u001B[0;36m_BeautifulSoupHtml5LibFrameParser._parse_tables\u001B[1;34m(self, doc, match, attrs)\u001B[0m\n\u001B[0;32m    610\u001B[0m tables \u001B[38;5;241m=\u001B[39m doc\u001B[38;5;241m.\u001B[39mfind_all(element_name, attrs\u001B[38;5;241m=\u001B[39mattrs)\n\u001B[0;32m    612\u001B[0m \u001B[38;5;28;01mif\u001B[39;00m \u001B[38;5;129;01mnot\u001B[39;00m tables:\n\u001B[1;32m--> 613\u001B[0m     \u001B[38;5;28;01mraise\u001B[39;00m \u001B[38;5;167;01mValueError\u001B[39;00m(\u001B[38;5;124m\"\u001B[39m\u001B[38;5;124mNo tables found\u001B[39m\u001B[38;5;124m\"\u001B[39m)\n\u001B[0;32m    615\u001B[0m result \u001B[38;5;241m=\u001B[39m []\n\u001B[0;32m    616\u001B[0m unique_tables \u001B[38;5;241m=\u001B[39m \u001B[38;5;28mset\u001B[39m()\n",
      "\u001B[1;31mValueError\u001B[0m: No tables found"
     ]
    }
   ],
   "execution_count": 26
  },
  {
   "metadata": {
    "ExecuteTime": {
     "end_time": "2024-10-18T20:06:58.834483Z",
     "start_time": "2024-10-18T20:06:58.832113Z"
    }
   },
   "cell_type": "code",
   "source": "",
   "id": "90d7e8f1360ea4d6",
   "outputs": [],
   "execution_count": 17
  },
  {
   "metadata": {},
   "cell_type": "markdown",
   "source": "",
   "id": "d0db7b8979f1b79f"
  },
  {
   "metadata": {
    "ExecuteTime": {
     "end_time": "2024-10-19T00:43:28.720191Z",
     "start_time": "2024-10-19T00:43:28.707120Z"
    }
   },
   "cell_type": "code",
   "source": [
    "OMNIWeb FORMAT OF THE SUBSETTED FILE\n",
    "    \n",
    "    ITEMS                      FORMAT   \n",
    "     \n",
    " 1 YEAR                          I4        \n",
    " 2 DOY                           I4        \n",
    " 3 Hour                          I3        \n",
    " 4 BX, nT (GSE, GSM)             F6.1      \n",
    " 5 BY, nT (GSE)                  F6.1      \n",
    " 6 BZ, nT (GSE)                  F6.1      \n",
    " 7 SW Plasma Temperature, K      F9.0      \n",
    " 8 SW Proton Density, N/cm^3     F6.1      \n",
    " 9 SW Plasma Speed, km/s         F6.0      \n",
    "10 SW Plasma flow long. angle    F6.1      \n",
    "11 SW Plasma flow lat. angle     F6.1      \n",
    "12 Alpha/Prot. ratio             F6.3      \n",
    "13 Flow pressure                 F6.2      \n",
    "14 Plasma Beta                   F7.2      \n",
    "15 R (Sunspot No.)               I4     "
   ],
   "id": "b2ea70b742fffa3",
   "outputs": [
    {
     "ename": "IndentationError",
     "evalue": "unindent does not match any outer indentation level (<tokenize>, line 5)",
     "output_type": "error",
     "traceback": [
      "\u001B[1;36m  File \u001B[1;32m<tokenize>:5\u001B[1;36m\u001B[0m\n\u001B[1;33m    1 YEAR                          I4\u001B[0m\n\u001B[1;37m    ^\u001B[0m\n\u001B[1;31mIndentationError\u001B[0m\u001B[1;31m:\u001B[0m unindent does not match any outer indentation level\n"
     ]
    }
   ],
   "execution_count": 28
  },
  {
   "metadata": {},
   "cell_type": "code",
   "outputs": [],
   "execution_count": null,
   "source": "",
   "id": "433b69f54212b747"
  }
 ],
 "metadata": {
  "kernelspec": {
   "display_name": "Python 3",
   "language": "python",
   "name": "python3"
  },
  "language_info": {
   "codemirror_mode": {
    "name": "ipython",
    "version": 2
   },
   "file_extension": ".py",
   "mimetype": "text/x-python",
   "name": "python",
   "nbconvert_exporter": "python",
   "pygments_lexer": "ipython2",
   "version": "2.7.6"
  }
 },
 "nbformat": 4,
 "nbformat_minor": 5
}
