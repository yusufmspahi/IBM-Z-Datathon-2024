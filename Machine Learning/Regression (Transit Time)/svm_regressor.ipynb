{
 "cells": [
  {
   "cell_type": "code",
   "execution_count": null,
   "id": "initial_id",
   "metadata": {
    "collapsed": true
   },
   "outputs": [],
   "source": [
    "from sklearn.model_selection import train_test_split, GridSearchCV\n",
    "from sklearn.svm import SVR\n",
    "from sklearn.model_selection import RandomizedSearchCV as rscv\n",
    "from sklearn.model_selection import KFold\n",
    "from sklearn.preprocessing import StandardScaler\n",
    "import pandas as pd\n",
    "from sklearn.metrics import r2_score\n",
    "\n",
    "df = pd.read_csv('final_dataset-2.csv')\n",
    "df = df.drop('Datetime', axis=1)\n",
    "df = df.dropna()\n",
    "targets = df['TransitTime']\n",
    "features = df.drop('TransitTime', axis=1)\n",
    "\n",
    "# Assume X is your feature matrix and y is your target variable\n",
    "X_train, X_test, y_train, y_test = train_test_split(features, targets, test_size=0.2, random_state=43)\n",
    "\n",
    "# Define the SVR model and parameters for GridSearch\n",
    "svr = SVR(kernel='rbf')\n",
    "\n",
    "scaler = StandardScaler()\n",
    "X_train_scaled = scaler.fit_transform(X_train)\n",
    "X_test_scaled = scaler.transform(X_test)\n",
    "\n",
    "param_grid = {\n",
    "    'C': [0.1, 1, 10, 100],\n",
    "    'gamma': ['scale', 'auto', 0.001, 0.01, 0.1],\n",
    "    'epsilon': [0.01, 0.1, 0.2, 0.5]\n",
    "}\n",
    "\n",
    "# Perform grid search with cross-validation\n",
    "kfold = KFold(n_splits=10, shuffle=True, random_state=43)\n",
    "grid_search = GridSearchCV(svr, param_grid, scoring='r2', cv=kfold, n_jobs=-1, verbose=3)\n",
    "grid_search.fit(X_train_scaled, y_train)\n",
    "\n",
    "# Get the best model and test it\n",
    "best_svr = grid_search.best_estimator_\n",
    "y_pred = best_svr.predict(X_test_scaled)\n",
    "\n",
    "# Evaluate the model\n",
    "r2 = r2_score(y_test, y_pred)\n",
    "print(f\"Best Parameters: {grid_search.best_params_}\")\n",
    "print(f\"R^2 Score: {r2}\")"
   ]
  }
 ],
 "metadata": {
  "kernelspec": {
   "display_name": "Python 3",
   "language": "python",
   "name": "python3"
  },
  "language_info": {
   "codemirror_mode": {
    "name": "ipython",
    "version": 2
   },
   "file_extension": ".py",
   "mimetype": "text/x-python",
   "name": "python",
   "nbconvert_exporter": "python",
   "pygments_lexer": "ipython2",
   "version": "2.7.6"
  }
 },
 "nbformat": 4,
 "nbformat_minor": 5
}
