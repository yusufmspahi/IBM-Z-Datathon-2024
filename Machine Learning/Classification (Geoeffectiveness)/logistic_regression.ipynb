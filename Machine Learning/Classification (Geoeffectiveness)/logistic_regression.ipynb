{
 "cells": [
  {
   "metadata": {},
   "cell_type": "markdown",
   "source": "# Logistic Regression for the Classification of Geoeffective CMEs\n",
   "id": "5f6baa4937968f74"
  },
  {
   "cell_type": "code",
   "execution_count": null,
   "id": "initial_id",
   "metadata": {
    "collapsed": true
   },
   "outputs": [],
   "source": [
    "import pandas as pd\n",
    "from sklearn.model_selection import train_test_split, GridSearchCV\n",
    "from sklearn.linear_model import LogisticRegression\n",
    "from sklearn.model_selection import StratifiedKFold\n",
    "import numpy as np\n",
    "from sklearn import metrics\n",
    "\n",
    "df = pd.read_csv('final_dataset-2.csv')\n",
    "df = df.drop(['Datetime', 'TransitTime'], axis=1)\n",
    "df = df.dropna()\n",
    "targets = df['Geoeffective']\n",
    "features = df.drop('Geoeffective', axis=1)\n",
    "\n",
    "# Assume X is your feature matrix and y is your target variable\n",
    "X_train, X_test, y_train, y_test = train_test_split(features, targets, test_size=0.2, random_state=43)\n",
    "\n",
    "grid={\n",
    "    \"C\":np.logspace(-3,3,7), \n",
    "    \"penalty\":[\"l1\",\"l2\"]\n",
    "    }\n",
    "\n",
    "kfold = StratifiedKFold(n_splits=5, shuffle=True, random_state=43)\n",
    "logreg = LogisticRegression()\n",
    "logreg_cv=GridSearchCV(logreg,grid,cv=kfold)\n",
    "logreg_cv.fit(X_train, y_train)\n",
    "\n",
    "print(\"tuned hpyerparameters :(best parameters) \",logreg_cv.best_params_)\n",
    "print(\"accuracy :\",logreg_cv.best_score_)\n",
    "\n",
    "y_pred = logreg_cv.best_estimator_.predict(X_test)\n",
    "print(\"Accuracy:\",metrics.accuracy_score(y_test, y_pred))"
   ]
  }
 ],
 "metadata": {
  "kernelspec": {
   "display_name": "Python 3",
   "language": "python",
   "name": "python3"
  },
  "language_info": {
   "codemirror_mode": {
    "name": "ipython",
    "version": 2
   },
   "file_extension": ".py",
   "mimetype": "text/x-python",
   "name": "python",
   "nbconvert_exporter": "python",
   "pygments_lexer": "ipython2",
   "version": "2.7.6"
  }
 },
 "nbformat": 4,
 "nbformat_minor": 5
}
